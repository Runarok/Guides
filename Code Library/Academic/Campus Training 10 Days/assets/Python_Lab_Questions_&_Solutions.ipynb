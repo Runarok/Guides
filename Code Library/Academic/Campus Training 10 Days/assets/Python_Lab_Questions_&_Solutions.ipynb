{
  "nbformat": 4,
  "nbformat_minor": 0,
  "metadata": {
    "colab": {
      "provenance": [],
      "authorship_tag": "ABX9TyNfU0PvO0oNckzreOYRcTmN"
    },
    "kernelspec": {
      "name": "python3",
      "display_name": "Python 3"
    },
    "language_info": {
      "name": "python"
    }
  },
  "cells": [
    {
      "cell_type": "markdown",
      "source": [
        "Program 1: Find the Maximum Element in a List\n",
        "\n",
        "Goal: Identify the largest number in a given list without using max()."
      ],
      "metadata": {
        "id": "NwrQRIKNmllx"
      }
    },
    {
      "cell_type": "code",
      "execution_count": null,
      "metadata": {
        "id": "bqSmgjJ-mlly"
      },
      "outputs": [],
      "source": [
        "# Define a list of numbers\n",
        "numbers = [5, 12, 7, 3, 9]\n",
        "\n",
        "# Start by assuming the first number is the maximum\n",
        "max_value = numbers[0]\n",
        "\n",
        "# Loop through each number in the list\n",
        "for num in numbers:\n",
        "    # If the current number is greater than max_value, update max_value\n",
        "    if num > max_value:\n",
        "        max_value = num\n",
        "\n",
        "# Print the result\n",
        "print(\"Maximum number:\", max_value)"
      ]
    },
    {
      "cell_type": "markdown",
      "source": [
        "Program 2: Print First 3 Elements and Reverse the List\n",
        "\n",
        "Goal: Practice slicing and reversing a list."
      ],
      "metadata": {
        "id": "RLzCsQL3mlly"
      }
    },
    {
      "cell_type": "code",
      "execution_count": null,
      "metadata": {
        "id": "wfVT52zdmlly"
      },
      "outputs": [],
      "source": [
        "# Define a sample list\n",
        "data = [10, 20, 30, 40, 50]\n",
        "\n",
        "# Slice the first 3 elements (index 0 to 2)\n",
        "first_three = data[:3]\n",
        "\n",
        "# Reverse the list using slicing [::-1]\n",
        "reversed_list = data[::-1]\n",
        "\n",
        "print(\"First 3 elements:\", first_three)\n",
        "print(\"Reversed list:\", reversed_list)"
      ]
    },
    {
      "cell_type": "markdown",
      "source": [
        "Program 3: Remove Duplicates from a List\n",
        "\n",
        "Goal: Show how to remove duplicates using a set."
      ],
      "metadata": {
        "id": "vqgnKECrmlly"
      }
    },
    {
      "cell_type": "code",
      "execution_count": null,
      "metadata": {
        "id": "amm4dlibmlly"
      },
      "outputs": [],
      "source": [
        "# List with duplicate values\n",
        "items = [1, 2, 2, 3, 4, 4, 5]\n",
        "\n",
        "# Convert list to a set to remove duplicates, then back to list\n",
        "unique_items = list(set(items))\n",
        "\n",
        "print(\"List without duplicates:\", unique_items)"
      ]
    },
    {
      "cell_type": "markdown",
      "source": [
        "Program 4: List Comprehension to Square Numbers\n",
        "\n",
        "Goal: Use list comprehension to transform each element."
      ],
      "metadata": {
        "id": "XQpMYlx0mlly"
      }
    },
    {
      "cell_type": "code",
      "execution_count": null,
      "metadata": {
        "id": "irPTTGjOmlly"
      },
      "outputs": [],
      "source": [
        "# Original list\n",
        "numbers = [1, 2, 3, 4, 5]\n",
        "\n",
        "# Square each number using list comprehension\n",
        "squares = [n ** 2 for n in numbers]\n",
        "\n",
        "print(\"Squares:\", squares)"
      ]
    },
    {
      "cell_type": "markdown",
      "source": [
        "Program 5: Use Tuple as Dictionary Key\n",
        "\n",
        "Goal: Demonstrate how tuples can be used as immutable dictionary keys."
      ],
      "metadata": {
        "id": "x8_uOjBrmlly"
      }
    },
    {
      "cell_type": "code",
      "execution_count": null,
      "metadata": {
        "id": "XYWKo2u6mllz"
      },
      "outputs": [],
      "source": [
        "# Create an empty dictionary\n",
        "coordinates = {}\n",
        "\n",
        "# Use tuples (x, y) as keys\n",
        "coordinates[(0, 0)] = \"Origin\"\n",
        "coordinates[(1, 2)] = \"Point A\"\n",
        "coordinates[(2, 3)] = \"Point B\"\n",
        "\n",
        "print(\"Coordinates Dictionary:\", coordinates)"
      ]
    },
    {
      "cell_type": "markdown",
      "source": [
        "Program 6: Pack and Unpack a Tuple\n",
        "\n",
        "Goal: Show how to assign multiple variables using tuple unpacking."
      ],
      "metadata": {
        "id": "erPuoHZsmkCy"
      }
    },
    {
      "cell_type": "code",
      "execution_count": null,
      "metadata": {
        "id": "XiYJUxDUmkCy"
      },
      "outputs": [],
      "source": [
        "# Create a tuple with multiple fields\n",
        "student = (\"Alice\", 21, \"ECE\")\n",
        "\n",
        "# Unpack the tuple into variables\n",
        "name, age, department = student\n",
        "\n",
        "print(\"Name:\", name)\n",
        "print(\"Age:\", age)\n",
        "print(\"Department:\", department)"
      ]
    },
    {
      "cell_type": "markdown",
      "source": [
        "Program 7: Count Frequency of Words\n",
        "\n",
        "Goal: Count how many times each word appears in a sentence."
      ],
      "metadata": {
        "id": "t73oBxnEmkWc"
      }
    },
    {
      "cell_type": "code",
      "execution_count": null,
      "metadata": {
        "id": "Dqi05FOQmkWc"
      },
      "outputs": [],
      "source": [
        "# Sample input sentence\n",
        "sentence = \"apple orange apple banana orange apple\"\n",
        "\n",
        "# Split the sentence into a list of words\n",
        "words = sentence.split()\n",
        "\n",
        "# Create an empty dictionary to hold word counts\n",
        "frequency = {}\n",
        "\n",
        "# Loop through each word\n",
        "for word in words:\n",
        "    # If word already exists in dictionary, increment count\n",
        "    if word in frequency:\n",
        "        frequency[word] += 1\n",
        "    # Otherwise, initialize it with count 1\n",
        "    else:\n",
        "        frequency[word] = 1\n",
        "\n",
        "print(\"Word Frequency:\", frequency)"
      ]
    },
    {
      "cell_type": "markdown",
      "source": [
        "Program 8: Invert a Dictionary\n",
        "\n",
        "Goal: Swap keys and values in a dictionary."
      ],
      "metadata": {
        "id": "eiN4dXXFmkh1"
      }
    },
    {
      "cell_type": "code",
      "execution_count": null,
      "metadata": {
        "id": "BBjQz0VSmkh1"
      },
      "outputs": [],
      "source": [
        "# Original dictionary\n",
        "original = {'a': 1, 'b': 2, 'c': 3}\n",
        "\n",
        "# Create an empty dictionary for inverted result\n",
        "inverted = {}\n",
        "\n",
        "# Loop through original dictionary items\n",
        "for key, value in original.items():\n",
        "    inverted[value] = key  # Use value as key, key as value\n",
        "\n",
        "print(\"Inverted Dictionary:\", inverted)"
      ]
    },
    {
      "cell_type": "markdown",
      "source": [
        "Program 9: Loop Through Dictionary\n",
        "\n",
        "Goal: Access key-value pairs in a dictionary and print them."
      ],
      "metadata": {
        "id": "H4xomYTYmk4a"
      }
    },
    {
      "cell_type": "code",
      "execution_count": null,
      "metadata": {
        "id": "biRIxaKHmk4a"
      },
      "outputs": [],
      "source": [
        "# Dictionary of students and their scores\n",
        "student_scores = {\n",
        "    \"Alice\": 85,\n",
        "    \"Bob\": 90,\n",
        "    \"Charlie\": 78\n",
        "}\n",
        "\n",
        "# Loop through each key-value pair\n",
        "for name, score in student_scores.items():\n",
        "    print(name, \"scored\", score)"
      ]
    },
    {
      "cell_type": "markdown",
      "source": [
        "Program 10: Store Student Records and Enable Lookup\n",
        "\n",
        "Goal: Store multiple student records using a list of tuples and use a dictionary for fast lookup."
      ],
      "metadata": {
        "id": "7RKUS3I0mjPT"
      }
    },
    {
      "cell_type": "code",
      "execution_count": null,
      "metadata": {
        "id": "4lezzYacmhpT"
      },
      "outputs": [],
      "source": [
        "# Step 1: List of student records (tuples)\n",
        "students = [\n",
        "    (\"Alice\", 85),\n",
        "    (\"Bob\", 90),\n",
        "    (\"Charlie\", 78)\n",
        "]\n",
        "\n",
        "# Step 2: Convert the list of tuples into a dictionary for lookup\n",
        "student_dict = dict(students)\n",
        "\n",
        "# Step 3: Lookup a student score\n",
        "name_to_find = \"Bob\"\n",
        "\n",
        "if name_to_find in student_dict:\n",
        "    print(name_to_find, \"scored\", student_dict[name_to_find])\n",
        "else:\n",
        "    print(\"Student not found.\")"
      ]
    }
  ]
}